{
 "cells": [
  {
   "cell_type": "code",
   "execution_count": 3,
   "id": "c601bbc3",
   "metadata": {
    "scrolled": true
   },
   "outputs": [],
   "source": [
    "def decrypt(s):\n",
    "    r = ''\n",
    "    i = len(s)-1\n",
    "    while i >= 0:   \n",
    "        if s[i] == \"#\":\n",
    "            x = s[i-2] + s[i-1]\n",
    "            r += chr(int(x)+96)               \n",
    "            i -= 3\n",
    "        elif s[i] != \"#\":\n",
    "            r += chr(int(s[i])+96)\n",
    "            i -=1\n",
    "\n",
    "    return (r[::-1])\n",
    "\n",
    "        \n",
    "      \n",
    "       \n"
   ]
  },
  {
   "cell_type": "code",
   "execution_count": 2,
   "id": "97f1b894",
   "metadata": {},
   "outputs": [
    {
     "data": {
      "text/plain": [
       "'jkab'"
      ]
     },
     "execution_count": 2,
     "metadata": {},
     "output_type": "execute_result"
    }
   ],
   "source": [
    "decrypt(\"10#11#12\")"
   ]
  },
  {
   "cell_type": "code",
   "execution_count": null,
   "id": "e3e368af",
   "metadata": {},
   "outputs": [],
   "source": []
  }
 ],
 "metadata": {
  "kernelspec": {
   "display_name": "Python 3 (ipykernel)",
   "language": "python",
   "name": "python3"
  },
  "language_info": {
   "codemirror_mode": {
    "name": "ipython",
    "version": 3
   },
   "file_extension": ".py",
   "mimetype": "text/x-python",
   "name": "python",
   "nbconvert_exporter": "python",
   "pygments_lexer": "ipython3",
   "version": "3.9.7"
  }
 },
 "nbformat": 4,
 "nbformat_minor": 5
}
